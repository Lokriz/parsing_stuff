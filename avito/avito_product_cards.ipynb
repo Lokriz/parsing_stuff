{
 "cells": [
  {
   "cell_type": "code",
   "execution_count": 1,
   "id": "2e228977",
   "metadata": {
    "ExecuteTime": {
     "end_time": "2024-01-15T14:12:49.161988Z",
     "start_time": "2024-01-15T14:12:48.238517Z"
    }
   },
   "outputs": [],
   "source": [
    "from IPython.display import clear_output\n",
    "\n",
    "from bs4 import BeautifulSoup\n",
    "from selenium import webdriver\n",
    "from selenium.webdriver.common.by import By\n",
    "from selenium.common.exceptions import StaleElementReferenceException\n",
    "\n",
    "import pandas as pd\n",
    "import numpy as np\n",
    "\n",
    "import json\n",
    "import time\n",
    "import mouse\n",
    "import os\n",
    "from os.path import exists\n",
    "import re\n"
   ]
  },
  {
   "cell_type": "code",
   "execution_count": null,
   "id": "54dd192b",
   "metadata": {},
   "outputs": [],
   "source": []
  },
  {
   "cell_type": "code",
   "execution_count": 3,
   "id": "33a2452d",
   "metadata": {
    "ExecuteTime": {
     "end_time": "2024-01-15T14:13:49.081039Z",
     "start_time": "2024-01-15T14:13:47.264042Z"
    }
   },
   "outputs": [
    {
     "data": {
      "text/plain": [
       "89"
      ]
     },
     "execution_count": 3,
     "metadata": {},
     "output_type": "execute_result"
    }
   ],
   "source": [
    "# Подгрузка файла с ссылками нанужные страницы в авито (Собирали руками)\n",
    "our_services = pd.read_excel(\"./data/our_services.xlsx\", header = None)\n",
    "our_links = our_services[7].dropna().unique().tolist()\n",
    "len(our_links)"
   ]
  },
  {
   "cell_type": "markdown",
   "id": "4aee2ab0",
   "metadata": {},
   "source": [
    "### Парсим последний уровень категоризатора по ссылкам, собранным на предыдущем этапе"
   ]
  },
  {
   "cell_type": "code",
   "execution_count": 6,
   "id": "c2875e40",
   "metadata": {
    "ExecuteTime": {
     "end_time": "2024-01-15T14:08:09.946394Z",
     "start_time": "2024-01-15T14:08:07.731446Z"
    }
   },
   "outputs": [],
   "source": [
    "# Подключаем драйвер\n",
    "options = webdriver.ChromeOptions()\n",
    "options.add_argument(\"--disable-blink-features=AutomationControlled\")\n",
    "\n",
    "driver = webdriver.Chrome(options=options)"
   ]
  },
  {
   "cell_type": "code",
   "execution_count": 7,
   "id": "b8055571",
   "metadata": {
    "ExecuteTime": {
     "end_time": "2024-01-15T14:08:16.602040Z",
     "start_time": "2024-01-15T14:08:16.589041Z"
    }
   },
   "outputs": [
    {
     "data": {
      "text/plain": [
       "0"
      ]
     },
     "execution_count": 7,
     "metadata": {},
     "output_type": "execute_result"
    }
   ],
   "source": [
    "# Настраиваем костыльный счетчик\n",
    "if os.path.exists('avito_counter.txt'):\n",
    "    with open('avito_counter.txt') as f:\n",
    "        j = int(f.readline())\n",
    "else:\n",
    "    j = 0\n",
    "j"
   ]
  },
  {
   "cell_type": "code",
   "execution_count": null,
   "id": "9cb2199a",
   "metadata": {
    "ExecuteTime": {
     "end_time": "2024-01-15T14:09:01.475370Z",
     "start_time": "2024-01-15T14:08:22.154519Z"
    }
   },
   "outputs": [],
   "source": [
    "# Количество страниц для парсинга \n",
    "pages = 4\n",
    "\n",
    "# Имя файла с данными\n",
    "file_name = 'data/avito_item_names_1.csv'\n",
    "\n",
    "for url_temp in our_links[j:]:\n",
    "    if 'avito' in url_temp:\n",
    "        # Парсим выбранное количество страниц с данным фильтром\n",
    "        for url in [f'{url_temp}?p={i}' for i in range(1, pages+1)]:\n",
    "            driver.get(url)\n",
    "    #         time.sleep(2)\n",
    "            driver.execute_script(\"window.scrollTo(0,document.body.scrollHeight)\")\n",
    "            time.sleep(2)\n",
    "            # Находим опорный элемент\n",
    "            card_elements = driver.find_elements(by='xpath', value='//*[@itemprop=\"url\"]/h3')\n",
    "            card_name_list, card_main_price_list, extra_services_list = [], [], []\n",
    "\n",
    "            # Парсим элементы со страницы\n",
    "            for i, element in enumerate(card_elements):\n",
    "                card_name = element.text\n",
    "                card_main_price = element.find_element(by='xpath', value='../../../..')\\\n",
    "                                         .find_element(by='xpath', value='.//p[@data-marker=\"item-price\"]').text\n",
    "                extra_services = element.find_element(by='xpath', value='../../../..')\\\n",
    "                                        .find_elements(by='xpath', value='.//div[@class=\"price-list-value-bhOAA\"]')\n",
    "                extra_services = '; '.join([service.text for service in extra_services] if extra_services else [])\\\n",
    "                                    .replace('\\n', '|')\n",
    "\n",
    "                # Аппендим данные со страницы\n",
    "                card_name_list.append(card_name)\n",
    "                card_main_price_list.append(card_main_price)\n",
    "                extra_services_list.append(extra_services)\n",
    "                \n",
    "            if not card_name_list:\n",
    "                continue\n",
    "                \n",
    "            # Загружаем данные в csv\n",
    "            pd.DataFrame(data = {'ind': j,\n",
    "                                 'href': [url_temp]*len(card_name_list),\n",
    "                                 'item_name': card_name_list,\n",
    "                                 'value': card_main_price_list,\n",
    "                                 'extra_services': extra_services_list}).to_csv(file_name, \n",
    "                                                                                 mode='a' if exists(file_name) else 'w', \n",
    "                                                                                 sep='\\t', \n",
    "                                                                                 index=False,\n",
    "                                                                                 header = not exists(file_name))\n",
    "\n",
    "            print(j,\n",
    "                  len(card_name_list), \n",
    "                  card_name_list[-1], \n",
    "                  card_main_price_list[-1], \n",
    "                  extra_services_list[-1], sep='\\n')\n",
    "            print()\n",
    "    else:\n",
    "        pass\n",
    "    # Обновление счетчика\n",
    "    j += 1\n",
    "    with open('data/avito_counter.txt', 'w') as f:\n",
    "        f.write(str(j))\n",
    "    time.sleep(1)\n",
    "    \n",
    "else:\n",
    "    # Удаление счетчика по окончании\n",
    "    os.remove('data/avito_counter.txt')"
   ]
  },
  {
   "cell_type": "code",
   "execution_count": null,
   "id": "7433f55a",
   "metadata": {},
   "outputs": [],
   "source": []
  },
  {
   "cell_type": "code",
   "execution_count": null,
   "id": "dc2618c2",
   "metadata": {},
   "outputs": [],
   "source": []
  },
  {
   "cell_type": "code",
   "execution_count": 11,
   "id": "5d00ede2",
   "metadata": {
    "ExecuteTime": {
     "end_time": "2023-10-29T10:07:13.145057Z",
     "start_time": "2023-10-29T10:06:57.701028Z"
    }
   },
   "outputs": [
    {
     "name": "stdout",
     "output_type": "stream",
     "text": [
      "0\n",
      "50\n",
      "Настройка и установка IP телефонии \"Cisco\"\n",
      "от 10 000 ₽ за услугу\n",
      "Подключение дачи, дома к интернету|от 5 000 ₽; Подключение спутникового интернета|от 5 000 ₽; Ещё 6 услуг\n"
     ]
    }
   ],
   "source": [
    "# Ячейка для проверки\n",
    "\n",
    "driver.get(url)\n",
    "#         time.sleep(2)\n",
    "driver.execute_script(\"window.scrollTo(0,document.body.scrollHeight)\")\n",
    "time.sleep(2)\n",
    "# Находим опорный элемент\n",
    "card_elements = driver.find_elements(by='xpath', value='//*[@itemprop=\"url\"]/h3')\n",
    "card_name_list, card_main_price_list, extra_services_list = [], [], []\n",
    "\n",
    "# Парсим элементы со страницы\n",
    "for i, element in enumerate(card_elements):\n",
    "    card_name = element.text\n",
    "    card_main_price = element.find_element(by='xpath', value='../../../..')\\\n",
    "                             .find_element(by='xpath', value='.//p[@data-marker=\"item-price\"]').text\n",
    "    extra_services = element.find_element(by='xpath', value='../../../..')\\\n",
    "                            .find_elements(by='xpath', value='.//div[@class=\"price-list-value-bhOAA\"]')\n",
    "    extra_services = '; '.join([service.text for service in extra_services] if extra_services else [])\\\n",
    "                        .replace('\\n', '|')\n",
    "\n",
    "    # Аппендим данные со страницы\n",
    "    card_name_list.append(card_name)\n",
    "    card_main_price_list.append(card_main_price)\n",
    "    extra_services_list.append(extra_services)\n",
    "\n",
    "print(j,\n",
    "      len(card_name_list), \n",
    "      card_name_list[-1], \n",
    "      card_main_price_list[-1], \n",
    "      extra_services_list[-1], sep='\\n')"
   ]
  },
  {
   "cell_type": "code",
   "execution_count": null,
   "id": "ae3b5ea4",
   "metadata": {},
   "outputs": [],
   "source": []
  },
  {
   "cell_type": "code",
   "execution_count": null,
   "id": "e62f12b0",
   "metadata": {},
   "outputs": [],
   "source": []
  }
 ],
 "metadata": {
  "kernelspec": {
   "display_name": "Python 3 (ipykernel)",
   "language": "python",
   "name": "python3"
  },
  "language_info": {
   "codemirror_mode": {
    "name": "ipython",
    "version": 3
   },
   "file_extension": ".py",
   "mimetype": "text/x-python",
   "name": "python",
   "nbconvert_exporter": "python",
   "pygments_lexer": "ipython3",
   "version": "3.9.15"
  }
 },
 "nbformat": 4,
 "nbformat_minor": 5
}
