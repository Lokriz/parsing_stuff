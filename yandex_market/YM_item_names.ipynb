{
 "cells": [
  {
   "cell_type": "code",
   "execution_count": 1,
   "id": "2e228977",
   "metadata": {
    "ExecuteTime": {
     "end_time": "2024-01-15T12:37:04.496496Z",
     "start_time": "2024-01-15T12:37:03.485905Z"
    }
   },
   "outputs": [],
   "source": [
    "from IPython.display import clear_output\n",
    "\n",
    "from bs4 import BeautifulSoup\n",
    "from selenium import webdriver\n",
    "from selenium.webdriver.common.by import By\n",
    "from selenium.common.exceptions import StaleElementReferenceException\n",
    "\n",
    "import pandas as pd\n",
    "import numpy as np\n",
    "\n",
    "import json\n",
    "import time\n",
    "import mouse\n",
    "import os\n",
    "from os.path import exists\n"
   ]
  },
  {
   "cell_type": "code",
   "execution_count": null,
   "id": "24c6d417",
   "metadata": {},
   "outputs": [],
   "source": []
  },
  {
   "cell_type": "markdown",
   "id": "4aee2ab0",
   "metadata": {},
   "source": [
    "### Парсим последний уровень категоризатора по ссылкам, собранным на предыдущем этапе"
   ]
  },
  {
   "cell_type": "code",
   "execution_count": 3,
   "id": "cbcaeae0",
   "metadata": {
    "ExecuteTime": {
     "end_time": "2024-01-15T12:37:12.514387Z",
     "start_time": "2024-01-15T12:37:12.477789Z"
    }
   },
   "outputs": [],
   "source": [
    "def bring_me_YSCaptcha():\n",
    "    '''\n",
    "    Вызывает вылет капчи\n",
    "    '''\n",
    "    while not driver.find_elements(by='id', value='js-button'):\n",
    "        url = \"https://market.yandex.ru/catalog--igrushki-dlia-detei-do-3-let/59693\"\n",
    "        driver.get(url)\n",
    "\n",
    "        \n",
    "def handle_if_YSCaptcha(url:str,\n",
    "                        x1:int=1021, \n",
    "                        x2:int=1284, \n",
    "                        y1:int=534, \n",
    "                        y2:int=575):\n",
    "    '''\n",
    "    Автоматизация для обхода капчи (Параметры функции -- координаты \n",
    "    прямоугольника, ограничивающего рабочую область кнопки для прохождения капчи)\n",
    "    Использовать mouse.get_position() для подбора координат\n",
    "    '''\n",
    "    counter = 0\n",
    "    while driver.find_elements(by='id', value='js-button'):\n",
    "        print('Работаем с капчей')\n",
    "        if counter:\n",
    "            driver.get(url)        \n",
    "        x = np.random.randint(x1, x2)\n",
    "        y = np.random.randint(y1, y2)\n",
    "        mouse.move(x, y, absolute=True, duration=0.1)\n",
    "        mouse.click('left')\n",
    "        time.sleep(2.5)\n",
    "        counter += 1\n",
    "        \n",
    "\n",
    "def check_if_loaded(url:str='', lag_range:int=3):\n",
    "    '''\n",
    "    Декоратор для проверки страницы на ошибки при загрузке\n",
    "    '''\n",
    "    def decorator(func):\n",
    "        def wrapper(*args, **kwargs):\n",
    "            counter = 0\n",
    "            for reload in range(2):\n",
    "                if not counter:\n",
    "                    pass\n",
    "                elif not counter % lag_range:\n",
    "                    print(url)\n",
    "                    driver.get(url)\n",
    "                    handle_if_YSCaptcha(url)\n",
    "                else:\n",
    "                    break\n",
    "\n",
    "                for lag in range(lag_range):\n",
    "                    counter += 1\n",
    "                    time.sleep(lag)\n",
    "                    tree_lvl3, lvl3_href = func(*args, **kwargs)\n",
    "                    if tree_lvl3:\n",
    "                        break\n",
    "\n",
    "            return tree_lvl3, lvl3_href\n",
    "        return wrapper\n",
    "    return decorator\n",
    "\n",
    "@check_if_loaded(url='a')\n",
    "def parse_item_names():\n",
    "    '''\n",
    "    Функция для сбора наименований и цены со страницы\n",
    "    '''\n",
    "    names_xpath = '//*[@data-autotest-id=\"product-snippet\"]/div[1]|div[2]/h3/a'\n",
    "#         values_xpath = '//*[@data-autotest-id=\"product-snippet\"][1]//*[@data-auto=\"price-value\"] | //*[@data-autotest-id=\"product-snippet\"]/div[2]/div[1]/div/div/div[1]/a/div/div/div[2]/div[1]/div/h3 | //*[@data-autotest-id=\"product-snippet\"][1]/div/div/a/div/span/span[1]'\n",
    "\n",
    "    names_xpath = '//*[@data-autotest-id=\"product-snippet\"]/div[2]/h3/a'\n",
    "#         values_xpath = '//*[@data-autotest-id=\"product-snippet\"]/div/div/div/div[1]/div/h3 | //*[@data-autotest-id=\"product-snippet\"]/div/div/a/div'\n",
    "\n",
    "    names_xpath = '//*[@data-autotest-id=\"product-snippet\"]/div[1]/h3/a'\n",
    "#         values_xpath = '//*[@data-autotest-id=\"product-snippet\"]/div/div/div/div/div/h3'\n",
    "\n",
    "\n",
    "    driver.execute_script(\"window.scrollTo(0,document.body.scrollHeight)\")\n",
    "    button = driver.find_elements(by='xpath', value=\"//*[text()='Показать ещё']\")\n",
    "    if button:\n",
    "        button[0].click()\n",
    "        driver.execute_script(\"window.scrollTo(0,document.body.scrollHeight)\")\n",
    "        time.sleep(0.7)\n",
    "\n",
    "    time.sleep(1)\n",
    "    while True:\n",
    "        try:\n",
    "            names = driver.find_elements(by='xpath', value=names_xpath)\n",
    "            names = [name.text for name in names]\n",
    "#                 values = driver.find_elements(by='xpath', value=values_xpath)\n",
    "#                 values = [value.text for value in values]\n",
    "            values = [0]*len(names)\n",
    "            if len(names) == len(values):\n",
    "                break\n",
    "        except StaleElementReferenceException:\n",
    "            pass\n",
    "\n",
    "        clear_output()\n",
    "        print('Элементы не прогрузились(')\n",
    "        print('Пробуем снова...')\n",
    "        time.sleep(0.5)\n",
    "\n",
    "    return names, values\n",
    "\n",
    "\n",
    "def special_button(text:str='Да, мне есть 18 лет'):\n",
    "    '''\n",
    "    Автоматических обход подтверждения возраста \n",
    "    '''\n",
    "    special_buttons = driver.find_elements('xpath', f\"//*[text()='{text}']\")\n",
    "    if special_buttons:\n",
    "        special_buttons[0].find_element('xpath', '..').click()"
   ]
  },
  {
   "cell_type": "code",
   "execution_count": null,
   "id": "b8108e39",
   "metadata": {},
   "outputs": [],
   "source": []
  },
  {
   "cell_type": "markdown",
   "id": "93002428",
   "metadata": {},
   "source": [
    "## Подгрузка полного справочника категорий"
   ]
  },
  {
   "cell_type": "code",
   "execution_count": 4,
   "id": "5d7dad87",
   "metadata": {
    "ExecuteTime": {
     "end_time": "2024-01-15T12:37:16.782191Z",
     "start_time": "2024-01-15T12:37:14.214285Z"
    }
   },
   "outputs": [],
   "source": [
    "# Подгрузка ручноый валидации\n",
    "our_cats = pd.read_excel('./data/primal_labeling_validation.xlsx')\n",
    "selected_names = our_cats['near_product'].str.replace(r'\\[.*\\] ', '', regex=True).tolist()"
   ]
  },
  {
   "cell_type": "code",
   "execution_count": 6,
   "id": "c42f7c4a",
   "metadata": {
    "ExecuteTime": {
     "end_time": "2024-01-15T12:37:32.830482Z",
     "start_time": "2024-01-15T12:37:29.495564Z"
    }
   },
   "outputs": [],
   "source": [
    "# Подгрузка полного категоризатора\n",
    "yandex_cats = pd.read_excel('./data/full_YM_categories.xlsx')\n",
    "\n",
    "yandex_cats['level_3'] = yandex_cats.apply(lambda x: x['level_3'] if x['level_3'] is not np.nan else x['level_2'], axis = 1)\n",
    "yandex_cats['lvl3_href'] = yandex_cats.apply(lambda x: x['lvl3_href'] if x['lvl3_href'] is not np.nan else x['lvl2_href'], axis = 1)\n"
   ]
  },
  {
   "cell_type": "code",
   "execution_count": 7,
   "id": "3b3196d0",
   "metadata": {
    "ExecuteTime": {
     "end_time": "2024-01-15T12:37:34.531620Z",
     "start_time": "2024-01-15T12:37:34.398048Z"
    },
    "scrolled": true
   },
   "outputs": [
    {
     "data": {
      "text/html": [
       "<div>\n",
       "<style scoped>\n",
       "    .dataframe tbody tr th:only-of-type {\n",
       "        vertical-align: middle;\n",
       "    }\n",
       "\n",
       "    .dataframe tbody tr th {\n",
       "        vertical-align: top;\n",
       "    }\n",
       "\n",
       "    .dataframe thead th {\n",
       "        text-align: right;\n",
       "    }\n",
       "</style>\n",
       "<table border=\"1\" class=\"dataframe\">\n",
       "  <thead>\n",
       "    <tr style=\"text-align: right;\">\n",
       "      <th></th>\n",
       "      <th>level_3</th>\n",
       "      <th>lvl3_href</th>\n",
       "    </tr>\n",
       "  </thead>\n",
       "  <tbody>\n",
       "    <tr>\n",
       "      <th>0</th>\n",
       "      <td>Смартфоны</td>\n",
       "      <td>https://market.yandex.ru/catalog--smartfony/61808</td>\n",
       "    </tr>\n",
       "    <tr>\n",
       "      <th>2</th>\n",
       "      <td>Наушники и Bluetooth-гарнитуры</td>\n",
       "      <td>https://market.yandex.ru/catalog--naushniki-i-...</td>\n",
       "    </tr>\n",
       "    <tr>\n",
       "      <th>3</th>\n",
       "      <td>Портативная акустика</td>\n",
       "      <td>https://market.yandex.ru/catalog--portativnaia...</td>\n",
       "    </tr>\n",
       "    <tr>\n",
       "      <th>5</th>\n",
       "      <td>Телевизоры</td>\n",
       "      <td>https://market.yandex.ru/catalog--televizory/6...</td>\n",
       "    </tr>\n",
       "    <tr>\n",
       "      <th>6</th>\n",
       "      <td>ТВ-приставки и медиаплееры</td>\n",
       "      <td>https://market.yandex.ru/catalog--tv-pristavki...</td>\n",
       "    </tr>\n",
       "    <tr>\n",
       "      <th>...</th>\n",
       "      <td>...</td>\n",
       "      <td>...</td>\n",
       "    </tr>\n",
       "    <tr>\n",
       "      <th>6998</th>\n",
       "      <td>Раскраски</td>\n",
       "      <td>https://market.yandex.ru/catalog--raskraski/50...</td>\n",
       "    </tr>\n",
       "    <tr>\n",
       "      <th>7000</th>\n",
       "      <td>Настольные игры</td>\n",
       "      <td>https://market.yandex.ru/catalog--nastolnye-ig...</td>\n",
       "    </tr>\n",
       "    <tr>\n",
       "      <th>7003</th>\n",
       "      <td>Аминокислоты</td>\n",
       "      <td>https://market.yandex.ru//catalog--aminokislot...</td>\n",
       "    </tr>\n",
       "    <tr>\n",
       "      <th>7008</th>\n",
       "      <td>Женское здоровье</td>\n",
       "      <td>https://market.yandex.ru//catalog--zhenskoe-zd...</td>\n",
       "    </tr>\n",
       "    <tr>\n",
       "      <th>7016</th>\n",
       "      <td>Витамин D</td>\n",
       "      <td>https://market.yandex.ru//catalog--vitamin-d/5...</td>\n",
       "    </tr>\n",
       "  </tbody>\n",
       "</table>\n",
       "<p>4872 rows × 2 columns</p>\n",
       "</div>"
      ],
      "text/plain": [
       "                             level_3  \\\n",
       "0                          Смартфоны   \n",
       "2     Наушники и Bluetooth-гарнитуры   \n",
       "3               Портативная акустика   \n",
       "5                         Телевизоры   \n",
       "6         ТВ-приставки и медиаплееры   \n",
       "...                              ...   \n",
       "6998                       Раскраски   \n",
       "7000                 Настольные игры   \n",
       "7003                    Аминокислоты   \n",
       "7008                Женское здоровье   \n",
       "7016                       Витамин D   \n",
       "\n",
       "                                              lvl3_href  \n",
       "0     https://market.yandex.ru/catalog--smartfony/61808  \n",
       "2     https://market.yandex.ru/catalog--naushniki-i-...  \n",
       "3     https://market.yandex.ru/catalog--portativnaia...  \n",
       "5     https://market.yandex.ru/catalog--televizory/6...  \n",
       "6     https://market.yandex.ru/catalog--tv-pristavki...  \n",
       "...                                                 ...  \n",
       "6998  https://market.yandex.ru/catalog--raskraski/50...  \n",
       "7000  https://market.yandex.ru/catalog--nastolnye-ig...  \n",
       "7003  https://market.yandex.ru//catalog--aminokislot...  \n",
       "7008  https://market.yandex.ru//catalog--zhenskoe-zd...  \n",
       "7016  https://market.yandex.ru//catalog--vitamin-d/5...  \n",
       "\n",
       "[4872 rows x 2 columns]"
      ]
     },
     "execution_count": 7,
     "metadata": {},
     "output_type": "execute_result"
    }
   ],
   "source": [
    "selected_values = yandex_cats[yandex_cats['level_3'].isin(selected_names)][['level_3', 'lvl3_href']].drop_duplicates()\n",
    "selected_values.groupby('level_3', as_index=False).count().query('lvl3_href > 3').sum()\n",
    "selected_values"
   ]
  },
  {
   "cell_type": "code",
   "execution_count": 15,
   "id": "05f6e1d6",
   "metadata": {
    "ExecuteTime": {
     "end_time": "2024-01-15T12:43:54.214432Z",
     "start_time": "2024-01-15T12:43:54.200444Z"
    }
   },
   "outputs": [],
   "source": [
    "# Список страниц для парсинга\n",
    "url_list = selected_values['lvl3_href'].tolist()"
   ]
  },
  {
   "cell_type": "code",
   "execution_count": null,
   "id": "9d350e76",
   "metadata": {},
   "outputs": [],
   "source": []
  },
  {
   "cell_type": "markdown",
   "id": "539f38d9",
   "metadata": {},
   "source": [
    "## Парсим item_name'ы"
   ]
  },
  {
   "cell_type": "code",
   "execution_count": 9,
   "id": "6a2613bf",
   "metadata": {
    "ExecuteTime": {
     "end_time": "2024-01-15T12:38:36.167956Z",
     "start_time": "2024-01-15T12:38:32.258074Z"
    }
   },
   "outputs": [],
   "source": [
    "# Подключаем драйвер\n",
    "options = webdriver.ChromeOptions()\n",
    "options.add_argument(\"--disable-blink-features=AutomationControlled\")\n",
    "\n",
    "driver = webdriver.Chrome(options=options)"
   ]
  },
  {
   "cell_type": "code",
   "execution_count": 11,
   "id": "b9e0d3b2",
   "metadata": {
    "ExecuteTime": {
     "end_time": "2024-01-15T12:42:27.391313Z",
     "start_time": "2024-01-15T12:42:27.375314Z"
    }
   },
   "outputs": [
    {
     "data": {
      "text/plain": [
       "0"
      ]
     },
     "execution_count": 11,
     "metadata": {},
     "output_type": "execute_result"
    }
   ],
   "source": [
    "if os.path.exists('counter_item_names.txt'):\n",
    "    with open('counter_item_names.txt') as f:\n",
    "        i = int(f.readline())\n",
    "else:\n",
    "    i = 0\n",
    "i"
   ]
  },
  {
   "cell_type": "code",
   "execution_count": null,
   "id": "b1dd2362",
   "metadata": {
    "ExecuteTime": {
     "end_time": "2024-01-15T12:57:55.134415Z",
     "start_time": "2024-01-15T12:54:24.803659Z"
    }
   },
   "outputs": [],
   "source": [
    "# Парсинг цен не доработан из-за варьируемости положения скидок и вида карточек товаров\n",
    "file_name = './data/YM_item_sample.csv'\n",
    "\n",
    "# Парсер\n",
    "for url in url_list[i:]:\n",
    "#     Загружаем страницу, проверяем капчу\n",
    "    driver.get(url)\n",
    "    handle_if_YSCaptcha(url)\n",
    "    special_button()\n",
    "    special_button('Сбросить фильтры')\n",
    "    time.sleep(2)\n",
    "    special_buttons = driver.find_elements('xpath', f\"//*[text()='Сбросить фильтры']\")\n",
    "    if special_buttons:\n",
    "        pd.DataFrame(data = {'lvl3_href': [url],\n",
    "                     'item_name': 'нет данных',\n",
    "                     'value': 'нет данных'}).to_csv(file_name, \n",
    "                                                         mode='a' if exists(file_name) else 'w', \n",
    "                                                         sep='\\t', \n",
    "                                                         index=False,\n",
    "                                                         header = not exists(file_name))\n",
    "        i += 1\n",
    "        with open('counter.txt', 'w') as f:\n",
    "            f.write(str(i))\n",
    "        time.sleep(1)\n",
    "        continue\n",
    "\n",
    "    \n",
    "    print(f'Парсим {i} элемент...')\n",
    "    \n",
    "    @check_if_loaded(url)\n",
    "    def parse_item_names():\n",
    "        '''\n",
    "        Функция для сбора наименований и цены со страницы\n",
    "        '''\n",
    "        names_xpath = '//*[@data-autotest-id=\"product-snippet\"]/div[1]|div[2]/h3/a'\n",
    "#         values_xpath = '//*[@data-autotest-id=\"product-snippet\"][1]//*[@data-auto=\"price-value\"] | //*[@data-autotest-id=\"product-snippet\"]/div[2]/div[1]/div/div/div[1]/a/div/div/div[2]/div[1]/div/h3 | //*[@data-autotest-id=\"product-snippet\"][1]/div/div/a/div/span/span[1]'\n",
    "\n",
    "        names_xpath = '//*[@data-autotest-id=\"product-snippet\"]/div[2]/h3/a'\n",
    "#         values_xpath = '//*[@data-autotest-id=\"product-snippet\"]/div/div/div/div[1]/div/h3 | //*[@data-autotest-id=\"product-snippet\"]/div/div/a/div'\n",
    "\n",
    "        names_xpath = '//*[@data-autotest-id=\"product-snippet\"]/div[1]/h3/a'\n",
    "#         values_xpath = '//*[@data-autotest-id=\"product-snippet\"]/div/div/div/div/div/h3'\n",
    "\n",
    "        \n",
    "        driver.execute_script(\"window.scrollTo(0,document.body.scrollHeight)\")\n",
    "        button = driver.find_elements(by='xpath', value=\"//*[text()='Показать ещё']\")\n",
    "        if button:\n",
    "            button[0].click()\n",
    "            driver.execute_script(\"window.scrollTo(0,document.body.scrollHeight)\")\n",
    "            time.sleep(0.7)\n",
    "\n",
    "        time.sleep(1)\n",
    "        while True:\n",
    "            try:\n",
    "                names = driver.find_elements(by='xpath', value=names_xpath)\n",
    "                names = [name.text for name in names]\n",
    "#                 values = driver.find_elements(by='xpath', value=values_xpath)\n",
    "#                 values = [value.text for value in values]\n",
    "                values = [0]*len(names)\n",
    "                if len(names) == len(values):\n",
    "                    break\n",
    "            except StaleElementReferenceException:\n",
    "                pass\n",
    "\n",
    "            clear_output()\n",
    "            print('Элементы не прогрузились(')\n",
    "            print('Пробуем снова...')\n",
    "            time.sleep(0.5)\n",
    "\n",
    "        return names, values\n",
    "        \n",
    "#     Парсим данные со страницы\n",
    "    names, values = parse_item_names()\n",
    "    \n",
    "    if not names:\n",
    "        pd.DataFrame(data = {'lvl3_href': [url],\n",
    "                     'item_name': 'нет данных',\n",
    "                     'value': 'нет данных'}).to_csv(file_name, \n",
    "                                                         mode='a' if exists(file_name) else 'w', \n",
    "                                                         sep='\\t', \n",
    "                                                         index=False,\n",
    "                                                         header = not exists(file_name))\n",
    "        i += 1\n",
    "        with open('counter.txt', 'w') as f:\n",
    "            f.write(str(i))\n",
    "        time.sleep(1)\n",
    "        continue\n",
    "    \n",
    "#   Аппендим данные в csv файл\n",
    "    print(f'Спарсили {i} элемент')\n",
    "    print('Пример: ',names[-1])\n",
    "    print('Количество собранных элементов: ', len(names))\n",
    "    print('Цена: ', values[-1])\n",
    "    pd.DataFrame(data = {'lvl3_href': [url]*len(values),\n",
    "                         'item_name': names,\n",
    "                         'value': values}).to_csv(file_name, \n",
    "                                                         mode='a' if exists(file_name) else 'w', \n",
    "                                                         sep='\\t', \n",
    "                                                         index=False,\n",
    "                                                         header = not exists(file_name))\n",
    "#     Обновляем файл с счетчиком спарсенных строк\n",
    "    i += 1\n",
    "    with open('counter_item_names.txt', 'w') as f:\n",
    "        f.write(str(i))\n",
    "    time.sleep(1)\n",
    "\n",
    "else:\n",
    "    os.remove('counter_item_names.txt')\n",
    "    "
   ]
  },
  {
   "cell_type": "code",
   "execution_count": null,
   "id": "a027a227",
   "metadata": {},
   "outputs": [],
   "source": []
  },
  {
   "cell_type": "code",
   "execution_count": null,
   "id": "45320bbd",
   "metadata": {},
   "outputs": [],
   "source": []
  }
 ],
 "metadata": {
  "kernelspec": {
   "display_name": "Python 3 (ipykernel)",
   "language": "python",
   "name": "python3"
  },
  "language_info": {
   "codemirror_mode": {
    "name": "ipython",
    "version": 3
   },
   "file_extension": ".py",
   "mimetype": "text/x-python",
   "name": "python",
   "nbconvert_exporter": "python",
   "pygments_lexer": "ipython3",
   "version": "3.9.15"
  }
 },
 "nbformat": 4,
 "nbformat_minor": 5
}
