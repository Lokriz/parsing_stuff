{
 "cells": [
  {
   "cell_type": "code",
   "execution_count": null,
   "id": "2fbb60f3",
   "metadata": {
    "ExecuteTime": {
     "end_time": "2024-01-26T10:21:29.246981Z",
     "start_time": "2024-01-26T10:21:28.378504Z"
    }
   },
   "outputs": [],
   "source": [
    "from IPython.display import clear_output, display\n",
    "\n",
    "import pandas as pd\n",
    "pd.set_option('display.max_rows', 1000)\n",
    "pd.set_option('max_colwidth', 400)\n",
    "import numpy as np\n",
    "\n",
    "from selenium import webdriver\n",
    "\n",
    "import re\n",
    "import time\n",
    "import mouse\n",
    "import os\n",
    "from os.path import exists\n",
    "from win32api import GetSystemMetrics\n",
    "\n",
    "# Импорт функций из модуля\n",
    "from ya_maps_parsing import driver_screen_calibration,\\\n",
    "                            mouse_placer_decorator,\\\n",
    "                            decrease_win_scale,\\\n",
    "                            gather_all_snippets,\\\n",
    "                            zoom_value_calibration,\\\n",
    "                            parse_data_within_rect\n",
    "\n",
    "# Корректировку параметров, если надо, делаем в ya_maps_parsing\n",
    "from ya_maps_parsing import WIDTH,\\\n",
    "                            HEIGHT,\\\n",
    "                            DRIVER_WIDTH,\\\n",
    "                            DRIVER_HEIGHT,\\\n",
    "                            WIN_POSITION_X,\\\n",
    "                            WIN_POSITION_Y,\\\n",
    "                            WIN_WIDTH,\\\n",
    "                            WIN_HEIGHT"
   ]
  },
  {
   "cell_type": "code",
   "execution_count": null,
   "id": "533d112c",
   "metadata": {
    "ExecuteTime": {
     "end_time": "2024-01-26T10:14:00.539998Z",
     "start_time": "2024-01-26T10:14:00.517144Z"
    }
   },
   "outputs": [],
   "source": []
  },
  {
   "cell_type": "markdown",
   "id": "b53ae012",
   "metadata": {},
   "source": [
    "## Запуск драйвера"
   ]
  },
  {
   "cell_type": "code",
   "execution_count": null,
   "id": "dc5df4ee",
   "metadata": {
    "ExecuteTime": {
     "end_time": "2024-01-26T10:21:55.007335Z",
     "start_time": "2024-01-26T10:21:49.755551Z"
    }
   },
   "outputs": [],
   "source": [
    "# Настраиваем опции драйвера\n",
    "options = webdriver.ChromeOptions()\n",
    "options.add_argument(\"--disable-blink-features=AutomationControlled\")\n",
    "\n",
    "# Подключаем драйвер\n",
    "driver = webdriver.Chrome(options=options)\n",
    "driver.set_window_size(WIN_WIDTH, \n",
    "                       WIN_HEIGHT)\n",
    "\n",
    "# Переходим на сайт настраиваем окно\n",
    "url = 'https://yandex.ru/maps/'\n",
    "driver.set_window_position(WIN_POSITION_X, \n",
    "                           WIN_POSITION_Y, \n",
    "                           windowHandle='current')\n",
    "\n",
    "# Переходим на страницу яндекс карт\n",
    "driver.get(url)\n",
    "\n",
    "# Уменьшим масштаб окна\n",
    "mouse_placer_decorator(WIDTH)(decrease_win_scale)(iterations=5)\n",
    "\n",
    "# driver.execute_script(\"document.body.style.zoom='50%'\")"
   ]
  },
  {
   "cell_type": "code",
   "execution_count": null,
   "id": "2e030787",
   "metadata": {},
   "outputs": [],
   "source": []
  },
  {
   "cell_type": "markdown",
   "id": "014b6290",
   "metadata": {},
   "source": [
    "## Калибровка и парсинг"
   ]
  },
  {
   "cell_type": "code",
   "execution_count": null,
   "id": "09b52301",
   "metadata": {
    "ExecuteTime": {
     "end_time": "2024-01-26T10:22:29.004785Z",
     "start_time": "2024-01-26T10:21:59.860302Z"
    }
   },
   "outputs": [],
   "source": [
    "# Калибровка для определения оптимального значения зума\n",
    "lon_lat = [37.6, 55.75]      # Примерные координаты Мск\n",
    "init_zoom = 12\n",
    "brand_name = 'Магнит'\n",
    "\n",
    "zoom_value_calibration(driver=driver,\n",
    "                       lon_lat=lon_lat,\n",
    "                       init_zoom=init_zoom,\n",
    "                       brand_name=brand_name)"
   ]
  },
  {
   "cell_type": "code",
   "execution_count": null,
   "id": "c5321dfe",
   "metadata": {
    "ExecuteTime": {
     "end_time": "2024-01-26T10:24:23.959028Z",
     "start_time": "2024-01-26T10:22:39.816649Z"
    }
   },
   "outputs": [],
   "source": [
    "# Парсим информацию о точках с яндекс карт\n",
    "brand_name = 'Магнит'\n",
    "topleft_lon_lat = [37.6, 55.75]\n",
    "bottomright_lon_lat = [39, 55]\n",
    "delta_coef = 0.8\n",
    "zoom = 12\n",
    "file_name = 'sample_data.csv'\n",
    "\n",
    "parse_data_within_rect(driver=driver,\n",
    "                       topleft_lon_lat=topleft_lon_lat,\n",
    "                       bottomright_lon_lat=bottomright_lon_lat,\n",
    "                       delta_coef=delta_coef,\n",
    "                       zoom=zoom,\n",
    "                       brand_name=brand_name,\n",
    "                       file_name=file_name)"
   ]
  },
  {
   "cell_type": "code",
   "execution_count": null,
   "id": "7be1dcfe",
   "metadata": {},
   "outputs": [],
   "source": []
  },
  {
   "cell_type": "markdown",
   "id": "fb9aff88",
   "metadata": {},
   "source": [
    "## Проверка парсинга с текущего положения карты"
   ]
  },
  {
   "cell_type": "code",
   "execution_count": null,
   "id": "9df55c09",
   "metadata": {
    "ExecuteTime": {
     "end_time": "2024-01-19T10:12:52.379159Z",
     "start_time": "2024-01-19T10:12:46.839572Z"
    }
   },
   "outputs": [],
   "source": [
    "# Сбор данных с текущего положения карты\n",
    "test_brand_df = gather_all_snippets(driver=driver)\n",
    "test_brand_df"
   ]
  },
  {
   "cell_type": "code",
   "execution_count": null,
   "id": "08856500",
   "metadata": {},
   "outputs": [],
   "source": []
  },
  {
   "cell_type": "code",
   "execution_count": null,
   "id": "a4139fda",
   "metadata": {},
   "outputs": [],
   "source": []
  },
  {
   "cell_type": "code",
   "execution_count": null,
   "id": "b9d044b9",
   "metadata": {},
   "outputs": [],
   "source": []
  },
  {
   "cell_type": "code",
   "execution_count": null,
   "id": "a1999b4b",
   "metadata": {},
   "outputs": [],
   "source": []
  },
  {
   "cell_type": "code",
   "execution_count": null,
   "id": "f29aa24c",
   "metadata": {},
   "outputs": [],
   "source": []
  },
  {
   "cell_type": "markdown",
   "id": "3dd0ab70",
   "metadata": {},
   "source": [
    "## Прочее"
   ]
  },
  {
   "cell_type": "code",
   "execution_count": null,
   "id": "90499f82",
   "metadata": {
    "ExecuteTime": {
     "end_time": "2024-01-08T16:19:01.919315Z",
     "start_time": "2024-01-08T16:19:01.905118Z"
    }
   },
   "outputs": [],
   "source": [
    "# Очищаем и вбиваем значения (сеть + адрес + координаты)\n",
    "# Индекс в ДФ\n",
    "df_index = 0\n",
    "\n",
    "# Текст запроса\n",
    "text_to_send = 'Магнит ' + ' '.join(geo_df.iloc[df_index].tolist())\n",
    "print(text_to_send)\n",
    "\n",
    "# Ищем конкретную точку\n",
    "# search_query(text_to_send)\n"
   ]
  },
  {
   "cell_type": "code",
   "execution_count": null,
   "id": "5fc680f0",
   "metadata": {
    "ExecuteTime": {
     "end_time": "2024-01-18T10:07:22.403986Z",
     "start_time": "2024-01-18T10:07:22.245986Z"
    }
   },
   "outputs": [],
   "source": [
    "# Ищем сеть\n",
    "search_query(driver=driver, text='Магнит')\n",
    "time.sleep(2)\n",
    "\n",
    "# Собираем данныaе с текущего положения карты\n",
    "magnit_msk_df = gather_all_snippets(driver=driver)"
   ]
  },
  {
   "cell_type": "code",
   "execution_count": null,
   "id": "91c216fb",
   "metadata": {
    "ExecuteTime": {
     "end_time": "2024-01-17T20:01:19.953390Z",
     "start_time": "2024-01-17T20:01:19.939059Z"
    }
   },
   "outputs": [],
   "source": [
    "res = pd.DataFrame(columns=magnit_msk_df.columns)"
   ]
  },
  {
   "cell_type": "code",
   "execution_count": null,
   "id": "682cd4fe",
   "metadata": {
    "ExecuteTime": {
     "end_time": "2024-01-17T20:01:22.001720Z",
     "start_time": "2024-01-17T20:01:21.246584Z"
    }
   },
   "outputs": [],
   "source": [
    "b = res.assign(res_cnt=1)\\\n",
    "        .merge(magnit_msk_df.assign(cnt=1), \n",
    "               on=['adress', 'lat', 'lon'], \n",
    "               how='right')\n",
    "print(len(b[b['res_cnt'].isna()].drop_duplicates()))\n",
    "res = pd.concat([res, magnit_msk_df])\n",
    "cnt = res.copy()\n",
    "cnt['cnt'] = 1\n",
    "a = cnt.groupby(by=['adress', 'lat', 'lon'], as_index=False).count()\n",
    "print(len(a))\n",
    "\n",
    "a.hist('cnt')"
   ]
  },
  {
   "cell_type": "code",
   "execution_count": null,
   "id": "2d3c4185",
   "metadata": {},
   "outputs": [],
   "source": []
  },
  {
   "cell_type": "code",
   "execution_count": null,
   "id": "1fe9dd1e",
   "metadata": {
    "ExecuteTime": {
     "end_time": "2024-01-18T10:09:02.299492Z",
     "start_time": "2024-01-18T10:09:02.280494Z"
    }
   },
   "outputs": [],
   "source": [
    "current_url = driver.current_url\n",
    "new_value = 8\n",
    "filter_text = 'z={}'\n",
    "get_function = get_zoom_value\n",
    "\n",
    "replace_filter_value(url=current_url,\n",
    "                     new_value=new_value,\n",
    "                     filter_text=filter_text,\n",
    "                     get_function=get_function)"
   ]
  },
  {
   "cell_type": "code",
   "execution_count": null,
   "id": "b72fda09",
   "metadata": {
    "ExecuteTime": {
     "end_time": "2024-01-18T11:09:04.973969Z",
     "start_time": "2024-01-18T11:09:04.940590Z"
    }
   },
   "outputs": [],
   "source": [
    "current_url = driver.current_url\n",
    "new_value = [22, 11]\n",
    "filter_text = 'll={}%2C{}'\n",
    "get_function = get_coordinates\n",
    "\n",
    "replace_filter_value(url=current_url,\n",
    "                     new_value=new_value,\n",
    "                     filter_text=filter_text,\n",
    "                     get_function=get_function)"
   ]
  },
  {
   "cell_type": "code",
   "execution_count": null,
   "id": "e2bcc627",
   "metadata": {
    "ExecuteTime": {
     "end_time": "2024-01-18T11:56:16.484981Z",
     "start_time": "2024-01-18T11:56:15.829817Z"
    }
   },
   "outputs": [],
   "source": [
    "# Переход на нужную координату\n",
    "\n",
    "lon_lat = [39, 55]\n",
    "zoom = 12\n",
    "\n",
    "# Определяем URL для стартовой точки\n",
    "start_point_url = move_to_url(driver=driver, lon_lat=lon_lat)\n",
    "# Переходим на стартовую точку\n",
    "driver.get(start_point_url)"
   ]
  }
 ],
 "metadata": {
  "kernelspec": {
   "display_name": "Python 3 (ipykernel)",
   "language": "python",
   "name": "python3"
  },
  "language_info": {
   "codemirror_mode": {
    "name": "ipython",
    "version": 3
   },
   "file_extension": ".py",
   "mimetype": "text/x-python",
   "name": "python",
   "nbconvert_exporter": "python",
   "pygments_lexer": "ipython3",
   "version": "3.9.15"
  }
 },
 "nbformat": 4,
 "nbformat_minor": 5
}
