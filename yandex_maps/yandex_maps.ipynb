{
 "cells": [
  {
   "cell_type": "code",
   "execution_count": 8,
   "id": "69f4c9f2",
   "metadata": {
    "ExecuteTime": {
     "end_time": "2024-01-19T10:03:59.063243Z",
     "start_time": "2024-01-19T10:03:59.052244Z"
    }
   },
   "outputs": [],
   "source": [
    "from IPython.display import clear_output, display\n",
    "\n",
    "import requests\n",
    "from bs4 import BeautifulSoup\n",
    "import json\n",
    "\n",
    "from selenium import webdriver\n",
    "from selenium.webdriver.common.by import By\n",
    "from selenium.webdriver.common.keys import Keys\n",
    "\n",
    "import pandas as pd\n",
    "pd.set_option('display.max_rows', 1000)\n",
    "pd.set_option('max_colwidth', 400)\n",
    "import numpy as np\n",
    "\n",
    "import json\n",
    "import time\n",
    "import mouse\n",
    "import os\n",
    "from os.path import exists\n",
    "import re\n",
    "from win32api import GetSystemMetrics\n",
    "\n",
    "from typing import Callable, Union\n",
    "from collections.abc import Iterable\n",
    "\n"
   ]
  },
  {
   "cell_type": "code",
   "execution_count": null,
   "id": "0d350183",
   "metadata": {
    "ExecuteTime": {
     "end_time": "2024-01-13T20:45:27.995651Z",
     "start_time": "2024-01-13T20:45:27.976572Z"
    }
   },
   "outputs": [],
   "source": []
  },
  {
   "cell_type": "code",
   "execution_count": 9,
   "id": "533d112c",
   "metadata": {
    "ExecuteTime": {
     "end_time": "2024-01-19T10:04:00.812645Z",
     "start_time": "2024-01-19T10:04:00.749645Z"
    }
   },
   "outputs": [],
   "source": [
    "# Калибровка размера экрана для Selenium драйвера\n",
    "def driver_screen_calibration(x, reverse=False):\n",
    "    '''\n",
    "    Корректировка координаты по x для драйвера (Иногда параметры экрана \n",
    "    для драйвера отличаются от параметров, которые видит система)\n",
    "    '''\n",
    "    if not reverse:\n",
    "        new_x = x * (1596 + 7) / 1920 - 7\n",
    "    else:\n",
    "        new_x = (x + 7) * 1920 / (1596 + 7)\n",
    "        \n",
    "    return new_x\n",
    "\n",
    "\n",
    "def search_query(driver, text: str = 'Магнит'):\n",
    "    '''\n",
    "    Для ввода поискового запроса в строку поиска\n",
    "    '''\n",
    "    input_text_element = driver.find_element(By.XPATH, \n",
    "                                             value=\"//input[@class='input__control _bold']\")\n",
    "    input_text_element.send_keys(Keys.CONTROL + \"a\");\n",
    "    input_text_element.send_keys(Keys.DELETE);\n",
    "    input_text_element.send_keys(text)\n",
    "    input_text_element.send_keys(Keys.ENTER)\n",
    "    \n",
    "\n",
    "def form_geo_data_frame(snippet_elements: list):\n",
    "    '''\n",
    "    Парсим сниппеты для нахождения адреса и координат в рамках отображаемого куска карты\n",
    "    '''\n",
    "    # Парсим Адреса\n",
    "    adress = [element.find_element(by=By.CLASS_NAME, \n",
    "                                   value='search-business-snippet-view__address')\\\n",
    "                                    .text\\\n",
    "                    for element in snippet_elements]\n",
    "    # Парсим координаты\n",
    "    coordinates = [element.find_element(by='xpath', \n",
    "                                        value='div')\\\n",
    "                        .get_attribute('data-coordinates').split(',') \\\n",
    "                    for element in snippet_elements]\n",
    "\n",
    "    # Проверка соответствия длин\n",
    "    assert len(adress) == len(coordinates), 'Длины списков не совпадают'\n",
    "\n",
    "    # Формируем ДФ\n",
    "    geo_df = pd.DataFrame({'adress': adress})\n",
    "    geo_df[['lat', 'lon']] = coordinates\n",
    "    \n",
    "    return geo_df\n",
    "\n",
    "\n",
    "def mouse_placer_decorator(func):\n",
    "    def wrapper(*args, **kwargs):\n",
    "        '''\n",
    "        Декоратор для приведения мыши к нужной зоне\n",
    "        '''\n",
    "        x, y = mouse.get_position()\n",
    "        mouse.move(WIDTH * 0.75, \n",
    "                   0, \n",
    "                   absolute=True, \n",
    "                   duration=0)\n",
    "        mouse.click()\n",
    "        # Декорируемая функция\n",
    "        func(*args, **kwargs)\n",
    "        mouse.move(x, \n",
    "                   y, \n",
    "                   absolute=True, \n",
    "                   duration=0)\n",
    "        \n",
    "    return wrapper\n",
    "\n",
    "@mouse_placer_decorator\n",
    "def decrease_win_scale(iterations=5):    \n",
    "    '''\n",
    "    Костыль для уменьшения масшатаба окна\n",
    "    '''\n",
    "    import keyboard\n",
    "    \n",
    "    for i in range(iterations):\n",
    "        keyboard.press_and_release('ctrl+-')\n",
    "\n",
    "\n",
    "def get_coordinates(url:str):\n",
    "    '''\n",
    "    Экстрактим координаты центра карты из фильтра для адреса страницы\n",
    "    '''\n",
    "    if 'https://yandex.ru/map' in url:\n",
    "        coordinates_pair = re.search(r'[\\?&]ll=(.{5,30})&', url)\n",
    "        coordinates_pair = coordinates_pair.group(1)\n",
    "        \n",
    "        return coordinates_pair.split('%2C')\n",
    "    \n",
    "    else:\n",
    "        print('Не тот URL')\n",
    "        \n",
    "        \n",
    "def get_zoom_value(url):\n",
    "    '''\n",
    "    Экстрактим значение зума из фильтра для адреса страницы\n",
    "    '''\n",
    "    if 'https://yandex.ru/map' in url:\n",
    "        zoom_value = re.search(r'[\\?&]z=(\\d{1,3}\\.?\\d{0,2})', url)\n",
    "        zoom_value = zoom_value.group(1)\n",
    "        \n",
    "        return zoom_value\n",
    "    \n",
    "    else:\n",
    "        print('Не тот URL')\n",
    "\n",
    "\n",
    "def get_delta_info(driver):\n",
    "    '''\n",
    "    Функция для определения \n",
    "    '''\n",
    "    # Определяем координаты центра карты до смещения\n",
    "    lat_curr, lon_curr = tuple(map(lambda x: float(x), \n",
    "                               get_coordinates(driver.current_url)))\n",
    "    \n",
    "    # Получаем необходимые параметры элементов страницы\n",
    "    coords = driver.get_window_position(windowHandle='current')\n",
    "    sidebar_width = driver.find_element(by=By.CLASS_NAME, \n",
    "                                         value='sidebar-view__panel').size['width']\n",
    "    map_height, map_width = driver.find_element(by=By.CLASS_NAME, \n",
    "                               value='map-container').size.values()\n",
    "\n",
    "    delta_y, delta_x = map(lambda x: driver_screen_calibration(x*0.5*0.5,\n",
    "                                                               reverse=True)//100*100, \n",
    "                           (map_height, map_width))\n",
    "\n",
    "    # Двигаем мышь на центр объекта карты\n",
    "    mouse.move(driver_screen_calibration(coords['x'] + (sidebar_width + map_width*0.5)*0.5, \n",
    "                                         reverse=True), \n",
    "               HEIGHT * 0.5, \n",
    "               absolute=True, \n",
    "               duration=0)  # Задаем элементы условия для цикла\n",
    "\n",
    "    driver_screen_calibration(map_width*0.5*0.5, reverse=True)\n",
    "\n",
    "    # Перетаскиваем на N пикселей\n",
    "    mouse.hold()\n",
    "    time.sleep(1)\n",
    "    mouse.drag(0, 0, \n",
    "               -delta_x, delta_y, \n",
    "               absolute=False, duration=3.7)\n",
    "    time.sleep(1)\n",
    "    \n",
    "    # Определяем координаты центра карты после смещения\n",
    "    lat_new, lon_new = tuple(map(lambda x: float(x), \n",
    "                           get_coordinates(driver.current_url)))\n",
    "    \n",
    "    # Определяем дельту смещения\n",
    "    lat_delta = (lat_new - lat_curr) * 2\n",
    "    lon_delta = (lon_new - lon_curr) * 2\n",
    "\n",
    "    return lat_delta, lon_delta\n",
    "\n",
    "\n",
    "def replace_filter_value(url:str, \n",
    "                         new_value: Union[int], \n",
    "                         filter_text:str, \n",
    "                         get_function: Callable[[str], str]):\n",
    "    '''\n",
    "    Для замены значений у фильтров\n",
    "    '''\n",
    "    # Проверям входное значение и оборачиваем в список, если не в списке\n",
    "    if not isinstance(new_value, Iterable):\n",
    "        new_value = [new_value]\n",
    "        \n",
    "    # Парсим текущее значение фильтра\n",
    "    current_value = get_function(url)\n",
    "    \n",
    "    # Оборачиваем в список, если нужно\n",
    "    if not isinstance(current_value, Iterable)\\\n",
    "        or isinstance(current_value, str):\n",
    "        current_value = [current_value]\n",
    "    \n",
    "    # Замена значений в выбранном фильтре\n",
    "    new_url = url.replace(filter_text.format(*current_value),\n",
    "                        filter_text.format(*new_value))\n",
    "    \n",
    "    return new_url\n",
    "\n",
    "\n",
    "def move_to_url(driver,\n",
    "                lon_lat, \n",
    "                zoom=12,\n",
    "                url_with_filters='https://yandex.ru/maps/?ll=50%2C80&z=10'):\n",
    "    '''\n",
    "    Переходит по адресу с заданными координатами и значением приближения\n",
    "    '''\n",
    "    # Задаются дефолтные значения url и фильтров\n",
    "    coordinate_filter_text = 'll={}%2C{}'\n",
    "    zoom_filter_text = 'z={}'\n",
    "    \n",
    "    # Подставляем значения широты и долготы \n",
    "    start_point_url = replace_filter_value(url=url_with_filters,\n",
    "                                             new_value=lon_lat,\n",
    "                                             filter_text=coordinate_filter_text,\n",
    "                                             get_function=get_coordinates)\n",
    "    # Подставляем значения зума\n",
    "    start_point_url = replace_filter_value(url=start_point_url,\n",
    "                                             new_value=zoom,\n",
    "                                             filter_text=zoom_filter_text,\n",
    "                                             get_function=get_zoom_value)\n",
    "    \n",
    "    # Возвращаем сформированный адрес\n",
    "    return start_point_url\n",
    "\n",
    "\n",
    "def mouse_placer_for_scroler_decorator(func):\n",
    "    def wrapper(*args, **kwargs):\n",
    "        '''\n",
    "        Декоратор для позиционирования курсора для скролинга\n",
    "        '''\n",
    "        # Активируем окно и двигаем мышь в нужную область \n",
    "        mouse.move(driver_screen_calibration(WIN_POSITION_X + WIN_WIDTH*0.5, \n",
    "                                             reverse=True), \n",
    "                   0, \n",
    "                   absolute=True, \n",
    "                   duration=0)\n",
    "        mouse.click()\n",
    "        \n",
    "        # Определяем координаты зоны для скролинга\n",
    "        coords = driver.get_window_position(windowHandle='current')\n",
    "        sidebar_length = driver.find_element(by=By.CLASS_NAME, \n",
    "                                             value='sidebar-view__panel')\\\n",
    "                                .size['width']\n",
    "        \n",
    "        # Двигаем мышь на место прокрутки\n",
    "        mouse.move(driver_screen_calibration(coords['x'] + sidebar_length*0.5*0.5, \n",
    "                                             reverse=True), \n",
    "                   HEIGHT * 0.5, \n",
    "                   absolute=True, \n",
    "                   duration=0.1)# Задаем элементы условия для цикла\n",
    "        time.sleep(2)\n",
    "        \n",
    "        return func(*args, **kwargs)\n",
    "    \n",
    "    return wrapper\n",
    "\n",
    "\n",
    "@mouse_placer_for_scroler_decorator\n",
    "def gather_all_snippets(driver):\n",
    "    '''\n",
    "    Автоматизация для прокрутки скроллбара и сбора данных по каждой найденной точке\n",
    "    '''\n",
    "    global snippet_elements\n",
    "    \n",
    "    # Подготовка элементов для условия цикла\n",
    "    prev_len = 0\n",
    "    snippet_elements = driver.find_elements(by=By.CLASS_NAME, \n",
    "                                            value='search-snippet-view')\n",
    "    curr_len = len(snippet_elements)\n",
    "\n",
    "    # Лупим прокрутку до тех пор, пока не перестанут подгружаться новые сниппеты\n",
    "    while curr_len != prev_len:\n",
    "        clear_output()\n",
    "        print('Количество загруженных точек', curr_len)\n",
    "        # Прокрутка\n",
    "        mouse.wheel(delta=-200)\n",
    "        time.sleep(1)\n",
    "        # ПроверОчка\n",
    "\n",
    "        # Луп с проверкой статуса подгрузки новых точек\n",
    "        counter = 0\n",
    "        loading = bool(driver.find_elements(by=By.CLASS_NAME, \n",
    "                         value='search-list-view__spinner-text'))\n",
    "        while loading and counter <= 5:\n",
    "            time.sleep(1)\n",
    "            counter += 1\n",
    "            # Статус загрузки\n",
    "            loading = bool(driver.find_elements(by=By.CLASS_NAME, \n",
    "                     value='search-list-view__spinner-text'))\n",
    "\n",
    "        # Обновляем список элементов\n",
    "        snippet_elements = driver.find_elements(by=By.CLASS_NAME, \n",
    "                                                value='search-snippet-view')\n",
    "        # Обновляем элементы условия\n",
    "        prev_len, curr_len = curr_len, len(snippet_elements)\n",
    "\n",
    "    # Формируем ДФ с адресом и координатами\n",
    "    geo_df = form_geo_data_frame(snippet_elements)\n",
    "    \n",
    "    return geo_df\n",
    "\n",
    "\n",
    "# Задаем константные параметры\n",
    "WIDTH = GetSystemMetrics(0)\n",
    "HEIGHT = GetSystemMetrics(1)\n",
    "DRIVER_WIDTH = driver_screen_calibration(WIDTH) + 7\n",
    "DRIVER_HEIGHT = driver_screen_calibration(HEIGHT) + 7\n",
    "\n",
    "WIN_POSITION_X = driver_screen_calibration(WIDTH * 0.4)\n",
    "WIN_POSITION_Y = 0\n",
    "\n",
    "WIN_WIDTH = DRIVER_WIDTH - WIN_POSITION_X\n",
    "WIN_HEIGHT = DRIVER_HEIGHT * 0.95"
   ]
  },
  {
   "cell_type": "code",
   "execution_count": null,
   "id": "6fe888f2",
   "metadata": {},
   "outputs": [],
   "source": []
  },
  {
   "cell_type": "code",
   "execution_count": 10,
   "id": "dc5df4ee",
   "metadata": {
    "ExecuteTime": {
     "end_time": "2024-01-19T10:04:08.663701Z",
     "start_time": "2024-01-19T10:04:02.377443Z"
    }
   },
   "outputs": [],
   "source": [
    "# Настраиваем опции драйвера\n",
    "options = webdriver.ChromeOptions()\n",
    "options.add_argument(\"--disable-blink-features=AutomationControlled\")\n",
    "\n",
    "# Подключаем драйвер\n",
    "driver = webdriver.Chrome(options=options)\n",
    "driver.set_window_size(WIN_WIDTH, \n",
    "                       WIN_HEIGHT)\n",
    "\n",
    "# Переходим на сайт настраиваем окно\n",
    "url = 'https://yandex.ru/maps/'\n",
    "driver.set_window_position(WIN_POSITION_X, \n",
    "                           WIN_POSITION_Y, \n",
    "                           windowHandle='current')\n",
    "\n",
    "# Переходим на страницу яндекс карт\n",
    "driver.get(url)\n",
    "\n",
    "# Уменьшим масштаб окна\n",
    "decrease_win_scale(iterations=5)\n",
    "\n",
    "# driver.execute_script(\"document.body.style.zoom='50%'\")"
   ]
  },
  {
   "cell_type": "code",
   "execution_count": null,
   "id": "96152c5b",
   "metadata": {},
   "outputs": [],
   "source": []
  },
  {
   "cell_type": "code",
   "execution_count": 11,
   "id": "718b2137",
   "metadata": {
    "ExecuteTime": {
     "end_time": "2024-01-18T10:09:02.299492Z",
     "start_time": "2024-01-18T10:09:02.280494Z"
    }
   },
   "outputs": [
    {
     "name": "stdout",
     "output_type": "stream",
     "text": [
      "12\n",
      "['12']\n"
     ]
    },
    {
     "data": {
      "text/plain": [
       "'https://yandex.ru/maps/213/moscow/chain/magnit/35471869327/?ll=37.655921%2C55.750458&sll=37.617700%2C55.755863&sspn=1.962433%2C1.024585&z=8'"
      ]
     },
     "execution_count": 11,
     "metadata": {},
     "output_type": "execute_result"
    }
   ],
   "source": [
    "current_url = driver.current_url\n",
    "new_value = 8\n",
    "filter_text = 'z={}'\n",
    "get_function = get_zoom_value\n",
    "\n",
    "replace_filter_value(url=current_url,\n",
    "                     new_value=new_value,\n",
    "                     filter_text=filter_text,\n",
    "                     get_function=get_function)"
   ]
  },
  {
   "cell_type": "code",
   "execution_count": 24,
   "id": "1e20ec9a",
   "metadata": {
    "ExecuteTime": {
     "end_time": "2024-01-18T11:09:04.973969Z",
     "start_time": "2024-01-18T11:09:04.940590Z"
    }
   },
   "outputs": [
    {
     "data": {
      "text/plain": [
       "'https://yandex.ru/maps/213/moscow/?ll=22%2C11&z=6'"
      ]
     },
     "execution_count": 24,
     "metadata": {},
     "output_type": "execute_result"
    }
   ],
   "source": [
    "current_url = driver.current_url\n",
    "new_value = [22, 11]\n",
    "filter_text = 'll={}%2C{}'\n",
    "get_function = get_coordinates\n",
    "\n",
    "replace_filter_value(url=current_url,\n",
    "                     new_value=new_value,\n",
    "                     filter_text=filter_text,\n",
    "                     get_function=get_function)"
   ]
  },
  {
   "cell_type": "code",
   "execution_count": null,
   "id": "1576550a",
   "metadata": {},
   "outputs": [],
   "source": [
    "d"
   ]
  },
  {
   "cell_type": "code",
   "execution_count": 59,
   "id": "22e0da9a",
   "metadata": {
    "ExecuteTime": {
     "end_time": "2024-01-18T11:56:16.484981Z",
     "start_time": "2024-01-18T11:56:15.829817Z"
    }
   },
   "outputs": [],
   "source": [
    "# Переход на нужную координату\n",
    "\n",
    "lon_lat = [39, 55]\n",
    "zoom = 12\n",
    "\n",
    "# Определяем URL для стартовой точки\n",
    "start_point_url = move_to_url(driver=driver, lon_lat=lon_lat)\n",
    "# Переходим на стартовую точку\n",
    "driver.get(start_point_url)"
   ]
  },
  {
   "cell_type": "code",
   "execution_count": null,
   "id": "714b814b",
   "metadata": {},
   "outputs": [],
   "source": []
  },
  {
   "cell_type": "code",
   "execution_count": 15,
   "id": "d087a93c",
   "metadata": {
    "ExecuteTime": {
     "end_time": "2024-01-19T10:18:53.692207Z",
     "start_time": "2024-01-19T10:16:00.519311Z"
    }
   },
   "outputs": [
    {
     "name": "stdout",
     "output_type": "stream",
     "text": [
      "Количество загруженных точек 25\n",
      "Рекомендуемое значение зума:  14\n"
     ]
    }
   ],
   "source": [
    "# Калибровка для определения оптимального значения зума\n",
    "lon_lat = [37.6, 55.75]\n",
    "init_zoom = 12\n",
    "# iteration_num = 2\n",
    "\n",
    "# Ищем сеть\n",
    "search_query(driver=driver, text='Магнит')\n",
    "time.sleep(2)\n",
    "\n",
    "for zoom_value in range(init_zoom, 16):\n",
    "    # Переходим по указанным координатам с текущим зумом\n",
    "    new_url = move_to_url(driver=driver,\n",
    "                            lon_lat=lon_lat, \n",
    "                            zoom=zoom_value,\n",
    "                            url_with_filters=driver.current_url)\n",
    "    driver.get(new_url)\n",
    "    \n",
    "    # Создаем список-болванку для фиксации размера датасета\n",
    "    amount_list = []\n",
    "    \n",
    "    for i in range(2):\n",
    "        # Собираем данныaе с текущим зумом\n",
    "        brand_df = gather_all_snippets(driver=driver)\n",
    "        \n",
    "        # Добавляем к списку длину датасета\n",
    "        amount_list.append(len(brand_df))\n",
    "        \n",
    "        # Обновляем страницу для следующей итерации\n",
    "        driver.refresh()\n",
    "        time.sleep(2)\n",
    "    \n",
    "    # Условие для раннего выхода из цикла\n",
    "    if len(set(amount_list)) == 1:\n",
    "        break\n",
    "\n",
    "print('Рекомендуемое значение зума: ', zoom_value)"
   ]
  },
  {
   "cell_type": "code",
   "execution_count": 11,
   "id": "dd5a968d",
   "metadata": {
    "ExecuteTime": {
     "end_time": "2024-01-19T10:11:48.228908Z",
     "start_time": "2024-01-19T10:04:41.882661Z"
    }
   },
   "outputs": [
    {
     "name": "stdout",
     "output_type": "stream",
     "text": [
      "Количество загруженных точек 25\n"
     ]
    }
   ],
   "source": [
    "topleft_lon_lat = [37.6, 55.75]\n",
    "bottomright_lon_lat = [39, 55]\n",
    "delta_coef = 0.8\n",
    "zoom = 12\n",
    "file_name = 'geo_data.csv'\n",
    "\n",
    "\n",
    "# Определяем URL для стартовой точки\n",
    "start_point_url = move_to_url(driver=driver, \n",
    "                              lon_lat=topleft_lon_lat)\n",
    "# Переходим на стартовую точку\n",
    "driver.get(start_point_url)\n",
    "# Получаем значения шага по широте и долготе для перехода на новый квадрат\n",
    "delta_lon_lat = get_delta_info(driver)\n",
    "# Корректировка шага при помощи коэффициента delta_coef\n",
    "delta_lon_lat = tuple(map(lambda x: x * delta_coef, delta_lon_lat))\n",
    "\n",
    "# Возвращаемся на стартовую точку\n",
    "driver.get(start_point_url)\n",
    "\n",
    "# Ищем сеть\n",
    "search_query(driver=driver, text='Магнит')\n",
    "time.sleep(2)\n",
    "current_url = driver.current_url\n",
    "\n",
    "# Определяем URL для стартовой точки\n",
    "start_point_url = move_to_url(driver=driver, \n",
    "                              lon_lat=topleft_lon_lat,\n",
    "                              url_with_filters=current_url)\n",
    "# Переходим на стартовую точку\n",
    "driver.get(start_point_url)\n",
    "\n",
    "# Фиксируем исходное значение по долготе\n",
    "current_lon_bkp = topleft_lon_lat[0]\n",
    "# Распределяем данные из списка\n",
    "current_lon, current_lat = topleft_lon_lat\n",
    "delta_lon, delta_lat = delta_lon_lat\n",
    "finish_lon, finish_lat = bottomright_lon_lat\n",
    "\n",
    "# Цикл по широте\n",
    "while current_lat > finish_lat - delta_lat:\n",
    "    current_lon = current_lon_bkp\n",
    "    # Цикл по долготе\n",
    "    while current_lon < finish_lon + delta_lon:\n",
    "        # Переходим на страницу следующего квадрата\n",
    "        print(current_lon, current_lat)\n",
    "        new_url = move_to_url(driver=driver, \n",
    "                                lon_lat=[current_lon, current_lat],\n",
    "                                url_with_filters=driver.current_url)\n",
    "        driver.get(new_url)\n",
    "        time.sleep(2)\n",
    "        # Собираем информацию о магазинах с прогруженного квадрата карты\n",
    "        brand_df = gather_all_snippets(driver)\n",
    "        # Сохраняем собранные данные\n",
    "        brand_df.to_csv(file_name, \n",
    "                           mode='a' if exists(file_name) else 'w', \n",
    "                           sep='\\t', \n",
    "                           index=False,\n",
    "                           header = not exists(file_name))\n",
    "\n",
    "        \n",
    "        \n",
    "        current_lon += delta_lon \n",
    "        \n",
    "    current_lat -= delta_lat"
   ]
  },
  {
   "cell_type": "code",
   "execution_count": null,
   "id": "98b891c5",
   "metadata": {},
   "outputs": [],
   "source": []
  },
  {
   "cell_type": "code",
   "execution_count": 18,
   "id": "2c84edba",
   "metadata": {
    "ExecuteTime": {
     "end_time": "2024-01-18T22:20:31.829440Z",
     "start_time": "2024-01-18T22:20:30.963893Z"
    }
   },
   "outputs": [],
   "source": [
    "driver.refresh()"
   ]
  },
  {
   "cell_type": "code",
   "execution_count": 12,
   "id": "9df55c09",
   "metadata": {
    "ExecuteTime": {
     "end_time": "2024-01-19T10:12:52.379159Z",
     "start_time": "2024-01-19T10:12:46.839572Z"
    }
   },
   "outputs": [
    {
     "name": "stdout",
     "output_type": "stream",
     "text": [
      "Количество загруженных точек 25\n"
     ]
    }
   ],
   "source": [
    "magnit_msk_df = gather_all_snippets(driver=driver)"
   ]
  },
  {
   "cell_type": "code",
   "execution_count": 13,
   "id": "352901c6",
   "metadata": {
    "ExecuteTime": {
     "end_time": "2024-01-19T10:12:55.825148Z",
     "start_time": "2024-01-19T10:12:55.778054Z"
    }
   },
   "outputs": [
    {
     "data": {
      "text/html": [
       "<div>\n",
       "<style scoped>\n",
       "    .dataframe tbody tr th:only-of-type {\n",
       "        vertical-align: middle;\n",
       "    }\n",
       "\n",
       "    .dataframe tbody tr th {\n",
       "        vertical-align: top;\n",
       "    }\n",
       "\n",
       "    .dataframe thead th {\n",
       "        text-align: right;\n",
       "    }\n",
       "</style>\n",
       "<table border=\"1\" class=\"dataframe\">\n",
       "  <thead>\n",
       "    <tr style=\"text-align: right;\">\n",
       "      <th></th>\n",
       "      <th>adress</th>\n",
       "      <th>lat</th>\n",
       "      <th>lon</th>\n",
       "    </tr>\n",
       "  </thead>\n",
       "  <tbody>\n",
       "    <tr>\n",
       "      <th>0</th>\n",
       "      <td>ул. Жуковского, 6А, Луховицы</td>\n",
       "      <td>39.023122</td>\n",
       "      <td>54.949200</td>\n",
       "    </tr>\n",
       "    <tr>\n",
       "      <th>1</th>\n",
       "      <td>ул. Жуковского, 38А, Луховицы</td>\n",
       "      <td>39.034460</td>\n",
       "      <td>54.943639</td>\n",
       "    </tr>\n",
       "    <tr>\n",
       "      <th>2</th>\n",
       "      <td>23, посёлок Сельхозтехника</td>\n",
       "      <td>39.181648</td>\n",
       "      <td>54.956437</td>\n",
       "    </tr>\n",
       "    <tr>\n",
       "      <th>3</th>\n",
       "      <td>Первомайская ул., 49, корп. 1, Луховицы, этаж 1, помещение XXI</td>\n",
       "      <td>39.029795</td>\n",
       "      <td>54.966773</td>\n",
       "    </tr>\n",
       "    <tr>\n",
       "      <th>4</th>\n",
       "      <td>ул. Пушкина, 153Б, Луховицы, этаж 1, помещение №1, комната №1</td>\n",
       "      <td>39.017339</td>\n",
       "      <td>54.949329</td>\n",
       "    </tr>\n",
       "    <tr>\n",
       "      <th>5</th>\n",
       "      <td>ул. Пушкина, 100, Луховицы</td>\n",
       "      <td>39.029385</td>\n",
       "      <td>54.972198</td>\n",
       "    </tr>\n",
       "    <tr>\n",
       "      <th>6</th>\n",
       "      <td>ул. Пушкина, 143, Луховицы, 1:.4-9.11-13, комната №1.2</td>\n",
       "      <td>39.019446</td>\n",
       "      <td>54.953301</td>\n",
       "    </tr>\n",
       "    <tr>\n",
       "      <th>7</th>\n",
       "      <td>ул. Дзержинского, 10, Коломна, помещение 2</td>\n",
       "      <td>38.804551</td>\n",
       "      <td>55.079221</td>\n",
       "    </tr>\n",
       "    <tr>\n",
       "      <th>8</th>\n",
       "      <td>Окская ул., 142А, село Пирочи, этаж 1, помещение №I, комната №1-3, 8, 9</td>\n",
       "      <td>38.957074</td>\n",
       "      <td>55.075146</td>\n",
       "    </tr>\n",
       "    <tr>\n",
       "      <th>9</th>\n",
       "      <td>Центральная ул., 19, посёлок Газопроводск</td>\n",
       "      <td>39.229442</td>\n",
       "      <td>54.837094</td>\n",
       "    </tr>\n",
       "    <tr>\n",
       "      <th>10</th>\n",
       "      <td>35, 1-й микрорайон, Зарайск</td>\n",
       "      <td>38.887240</td>\n",
       "      <td>54.755746</td>\n",
       "    </tr>\n",
       "    <tr>\n",
       "      <th>11</th>\n",
       "      <td>ул. Урицкого, 35, рабочий посёлок Белоомут, помещения №№77-80, этаж 1</td>\n",
       "      <td>39.342553</td>\n",
       "      <td>54.940720</td>\n",
       "    </tr>\n",
       "    <tr>\n",
       "      <th>12</th>\n",
       "      <td>ул. Карла Маркса, 25, Зарайск</td>\n",
       "      <td>38.878952</td>\n",
       "      <td>54.762050</td>\n",
       "    </tr>\n",
       "    <tr>\n",
       "      <th>13</th>\n",
       "      <td>Московская ул., 99А, Зарайск</td>\n",
       "      <td>38.885296</td>\n",
       "      <td>54.781825</td>\n",
       "    </tr>\n",
       "    <tr>\n",
       "      <th>14</th>\n",
       "      <td>Зелёная ул., 33, Коломна</td>\n",
       "      <td>38.776665</td>\n",
       "      <td>55.076888</td>\n",
       "    </tr>\n",
       "    <tr>\n",
       "      <th>15</th>\n",
       "      <td>Советская площадь, 7, Коломна, комн. №№ 6-16, 18, часть площадью 617, м., част, этаж 1, комната №17, квартира 1</td>\n",
       "      <td>38.765056</td>\n",
       "      <td>55.093267</td>\n",
       "    </tr>\n",
       "    <tr>\n",
       "      <th>16</th>\n",
       "      <td>ул. Гаврилова, 3, Коломна</td>\n",
       "      <td>38.747039</td>\n",
       "      <td>55.054371</td>\n",
       "    </tr>\n",
       "    <tr>\n",
       "      <th>17</th>\n",
       "      <td>ул. Астахова, 25, Коломна, помещение 1</td>\n",
       "      <td>38.746289</td>\n",
       "      <td>55.062891</td>\n",
       "    </tr>\n",
       "    <tr>\n",
       "      <th>18</th>\n",
       "      <td>Пионерская ул., 50Б, Коломна</td>\n",
       "      <td>38.760621</td>\n",
       "      <td>55.093268</td>\n",
       "    </tr>\n",
       "    <tr>\n",
       "      <th>19</th>\n",
       "      <td>ул. Гагарина, 7А, Коломна</td>\n",
       "      <td>38.794986</td>\n",
       "      <td>55.083767</td>\n",
       "    </tr>\n",
       "    <tr>\n",
       "      <th>20</th>\n",
       "      <td>ул. Шилова, 19, Коломна</td>\n",
       "      <td>38.761161</td>\n",
       "      <td>55.088760</td>\n",
       "    </tr>\n",
       "    <tr>\n",
       "      <th>21</th>\n",
       "      <td>ул. Макеева, 3, корп. 1, Коломна, помещение — 72, этаж 1, комната 1, 3, 4-8, 19</td>\n",
       "      <td>38.759613</td>\n",
       "      <td>55.084877</td>\n",
       "    </tr>\n",
       "    <tr>\n",
       "      <th>22</th>\n",
       "      <td>площадь Восстания, 4, Коломна, номера комнат на поэтажном плане: 1-5, 1, помещение 1, этаж -1, помещение 1</td>\n",
       "      <td>38.803631</td>\n",
       "      <td>55.085141</td>\n",
       "    </tr>\n",
       "    <tr>\n",
       "      <th>23</th>\n",
       "      <td>Зелёная ул., 12, Коломна</td>\n",
       "      <td>38.768661</td>\n",
       "      <td>55.078766</td>\n",
       "    </tr>\n",
       "    <tr>\n",
       "      <th>24</th>\n",
       "      <td>Окский просп., 3Б, Коломна</td>\n",
       "      <td>38.805383</td>\n",
       "      <td>55.082040</td>\n",
       "    </tr>\n",
       "  </tbody>\n",
       "</table>\n",
       "</div>"
      ],
      "text/plain": [
       "                                                                                                             adress  \\\n",
       "0                                                                                      ул. Жуковского, 6А, Луховицы   \n",
       "1                                                                                     ул. Жуковского, 38А, Луховицы   \n",
       "2                                                                                        23, посёлок Сельхозтехника   \n",
       "3                                                    Первомайская ул., 49, корп. 1, Луховицы, этаж 1, помещение XXI   \n",
       "4                                                     ул. Пушкина, 153Б, Луховицы, этаж 1, помещение №1, комната №1   \n",
       "5                                                                                        ул. Пушкина, 100, Луховицы   \n",
       "6                                                            ул. Пушкина, 143, Луховицы, 1:.4-9.11-13, комната №1.2   \n",
       "7                                                                        ул. Дзержинского, 10, Коломна, помещение 2   \n",
       "8                                           Окская ул., 142А, село Пирочи, этаж 1, помещение №I, комната №1-3, 8, 9   \n",
       "9                                                                         Центральная ул., 19, посёлок Газопроводск   \n",
       "10                                                                                      35, 1-й микрорайон, Зарайск   \n",
       "11                                            ул. Урицкого, 35, рабочий посёлок Белоомут, помещения №№77-80, этаж 1   \n",
       "12                                                                                    ул. Карла Маркса, 25, Зарайск   \n",
       "13                                                                                     Московская ул., 99А, Зарайск   \n",
       "14                                                                                         Зелёная ул., 33, Коломна   \n",
       "15  Советская площадь, 7, Коломна, комн. №№ 6-16, 18, часть площадью 617, м., част, этаж 1, комната №17, квартира 1   \n",
       "16                                                                                        ул. Гаврилова, 3, Коломна   \n",
       "17                                                                           ул. Астахова, 25, Коломна, помещение 1   \n",
       "18                                                                                     Пионерская ул., 50Б, Коломна   \n",
       "19                                                                                        ул. Гагарина, 7А, Коломна   \n",
       "20                                                                                          ул. Шилова, 19, Коломна   \n",
       "21                                  ул. Макеева, 3, корп. 1, Коломна, помещение — 72, этаж 1, комната 1, 3, 4-8, 19   \n",
       "22       площадь Восстания, 4, Коломна, номера комнат на поэтажном плане: 1-5, 1, помещение 1, этаж -1, помещение 1   \n",
       "23                                                                                         Зелёная ул., 12, Коломна   \n",
       "24                                                                                       Окский просп., 3Б, Коломна   \n",
       "\n",
       "          lat        lon  \n",
       "0   39.023122  54.949200  \n",
       "1   39.034460  54.943639  \n",
       "2   39.181648  54.956437  \n",
       "3   39.029795  54.966773  \n",
       "4   39.017339  54.949329  \n",
       "5   39.029385  54.972198  \n",
       "6   39.019446  54.953301  \n",
       "7   38.804551  55.079221  \n",
       "8   38.957074  55.075146  \n",
       "9   39.229442  54.837094  \n",
       "10  38.887240  54.755746  \n",
       "11  39.342553  54.940720  \n",
       "12  38.878952  54.762050  \n",
       "13  38.885296  54.781825  \n",
       "14  38.776665  55.076888  \n",
       "15  38.765056  55.093267  \n",
       "16  38.747039  55.054371  \n",
       "17  38.746289  55.062891  \n",
       "18  38.760621  55.093268  \n",
       "19  38.794986  55.083767  \n",
       "20  38.761161  55.088760  \n",
       "21  38.759613  55.084877  \n",
       "22  38.803631  55.085141  \n",
       "23  38.768661  55.078766  \n",
       "24  38.805383  55.082040  "
      ]
     },
     "execution_count": 13,
     "metadata": {},
     "output_type": "execute_result"
    }
   ],
   "source": [
    "magnit_msk_df"
   ]
  },
  {
   "cell_type": "code",
   "execution_count": null,
   "id": "08856500",
   "metadata": {},
   "outputs": [],
   "source": []
  },
  {
   "cell_type": "code",
   "execution_count": 53,
   "id": "90499f82",
   "metadata": {
    "ExecuteTime": {
     "end_time": "2024-01-08T16:19:01.919315Z",
     "start_time": "2024-01-08T16:19:01.905118Z"
    }
   },
   "outputs": [
    {
     "name": "stdout",
     "output_type": "stream",
     "text": [
      "Магнит Тверская ул., 6, стр. 1, стр. 1, этаж -1 37.610681 55.760920\n"
     ]
    }
   ],
   "source": [
    "# Очищаем и вбиваем значения (сеть + адрес + координаты)\n",
    "# Индекс в ДФ\n",
    "df_index = 0\n",
    "\n",
    "# Текст запроса\n",
    "text_to_send = 'Магнит ' + ' '.join(geo_df.iloc[df_index].tolist())\n",
    "print(text_to_send)\n",
    "\n",
    "# Ищем конкретную точку\n",
    "# search_query(text_to_send)\n"
   ]
  },
  {
   "cell_type": "code",
   "execution_count": 4,
   "id": "5fc680f0",
   "metadata": {
    "ExecuteTime": {
     "end_time": "2024-01-18T10:07:22.403986Z",
     "start_time": "2024-01-18T10:07:22.245986Z"
    }
   },
   "outputs": [],
   "source": [
    "# Ищем сеть\n",
    "search_query(driver=driver, text='Магнит')\n",
    "time.sleep(2)\n",
    "\n",
    "# Собираем данныaе с текущего положения карты\n",
    "magnit_msk_df = gather_all_snippets(driver=driver)"
   ]
  },
  {
   "cell_type": "code",
   "execution_count": 8,
   "id": "91c216fb",
   "metadata": {
    "ExecuteTime": {
     "end_time": "2024-01-17T20:01:19.953390Z",
     "start_time": "2024-01-17T20:01:19.939059Z"
    }
   },
   "outputs": [],
   "source": [
    "res = pd.DataFrame(columns=magnit_msk_df.columns)"
   ]
  },
  {
   "cell_type": "code",
   "execution_count": 9,
   "id": "682cd4fe",
   "metadata": {
    "ExecuteTime": {
     "end_time": "2024-01-17T20:01:22.001720Z",
     "start_time": "2024-01-17T20:01:21.246584Z"
    }
   },
   "outputs": [
    {
     "name": "stdout",
     "output_type": "stream",
     "text": [
      "218\n",
      "218\n"
     ]
    },
    {
     "data": {
      "text/plain": [
       "array([[<AxesSubplot: title={'center': 'cnt'}>]], dtype=object)"
      ]
     },
     "execution_count": 9,
     "metadata": {},
     "output_type": "execute_result"
    },
    {
     "data": {
      "image/png": "[encoded data removed]",
      "text/plain": [
       "<Figure size 640x480 with 1 Axes>"
      ]
     },
     "metadata": {},
     "output_type": "display_data"
    }
   ],
   "source": [
    "b = res.assign(res_cnt=1)\\\n",
    "        .merge(magnit_msk_df.assign(cnt=1), \n",
    "               on=['adress', 'lat', 'lon'], \n",
    "               how='right')\n",
    "print(len(b[b['res_cnt'].isna()].drop_duplicates()))\n",
    "res = pd.concat([res, magnit_msk_df])\n",
    "cnt = res.copy()\n",
    "cnt['cnt'] = 1\n",
    "a = cnt.groupby(by=['adress', 'lat', 'lon'], as_index=False).count()\n",
    "print(len(a))\n",
    "\n",
    "a.hist('cnt')"
   ]
  },
  {
   "cell_type": "code",
   "execution_count": 14,
   "id": "cbd0aacb",
   "metadata": {
    "ExecuteTime": {
     "end_time": "2024-01-17T20:23:44.755719Z",
     "start_time": "2024-01-17T20:23:44.736717Z"
    }
   },
   "outputs": [
    {
     "data": {
      "text/plain": [
       "['https://yandex.ru/maps/213/moscow/chain/magnit/35471869327/?ll',\n",
       " '37.669173%2C55.747217&sll',\n",
       " '37.617700%2C55.755863&sspn',\n",
       " '1.962433%2C1.024585&z',\n",
       " \"12 - The resource https://frontend.vh.yandex.ru/stable/player_version/player.js was preloaded using link preload but not used within a few seconds from the window's load event. Please make sure it has an appropriate `as` value and it is preloaded intentionally.\"]"
      ]
     },
     "execution_count": 14,
     "metadata": {},
     "output_type": "execute_result"
    }
   ],
   "source": [
    "log = driver.get_log(\"browser\")\n",
    "log\n",
    "\n",
    "log[-1]['message'].split('=')"
   ]
  }
 ],
 "metadata": {
  "kernelspec": {
   "display_name": "Python 3 (ipykernel)",
   "language": "python",
   "name": "python3"
  },
  "language_info": {
   "codemirror_mode": {
    "name": "ipython",
    "version": 3
   },
   "file_extension": ".py",
   "mimetype": "text/x-python",
   "name": "python",
   "nbconvert_exporter": "python",
   "pygments_lexer": "ipython3",
   "version": "3.9.15"
  }
 },
 "nbformat": 4,
 "nbformat_minor": 5
}
